{
 "metadata": {
  "language_info": {
   "codemirror_mode": {
    "name": "ipython",
    "version": 3
   },
   "file_extension": ".py",
   "mimetype": "text/x-python",
   "name": "python",
   "nbconvert_exporter": "python",
   "pygments_lexer": "ipython3",
   "version": "3.8.5-final"
  },
  "orig_nbformat": 2,
  "kernelspec": {
   "name": "python3",
   "display_name": "Python 3",
   "language": "python"
  }
 },
 "nbformat": 4,
 "nbformat_minor": 2,
 "cells": [
  {
   "source": [
    "# Algo pipeline demo\n",
    "## Algorithm used \n",
    "For this project I used Linear Regression algorithm in order to predict a value with given features."
   ],
   "cell_type": "markdown",
   "metadata": {}
  },
  {
   "cell_type": "code",
   "execution_count": 2,
   "metadata": {},
   "outputs": [],
   "source": [
    "from model import DataManager\n",
    "from utils.utils import ModelBuilder\n",
    "from joblib import load"
   ]
  },
  {
   "cell_type": "code",
   "execution_count": 3,
   "metadata": {},
   "outputs": [
    {
     "output_type": "stream",
     "name": "stdout",
     "text": [
      "Initialization\n",
      "Loading data...\n",
      "Get data from bucket\n",
      "Data merged\n",
      "Data loaded\n",
      "FeatureRecipe starts...\n",
      "End of FeatureRecipe initialisation\n",
      "\n",
      "Filtering features...\n",
      "Drop useless feature start...\n",
      "Drop useless feature end...\n",
      "Number columns remaining 19\n",
      "\n",
      "Separate variable types starts...\n",
      "Separate variable types end...\n",
      "Dataset number of columns : 19 \n",
      "number of discreet values : 4 \n",
      "number of continuous values : 6 \n",
      "number of others : 9 \n",
      "total size : 19\n",
      "\n",
      "Deal duplicate start...\n",
      "Get duplicates\n",
      "Drop col : ['is_business_travel_ready']\n",
      "Dropped duplicates : None\n",
      "Deal duplicate end...\n",
      "Drop columns with 0.3 percentage of NAN\n",
      "Get duplicates\n",
      "Drop col : []\n",
      "Number of columns dropped : 0\n",
      "\n",
      "Filtering done\n",
      "Extraction start...\n",
      "Extraction end...\n",
      "\n",
      "     local_price   latitude  longitude  person_capacity  beds  bedrooms  \\\n",
      "0     170.000000  48.867284   2.358431                4     2         1   \n",
      "1      49.952756  48.846184   2.304455                2     1         1   \n",
      "2     107.374026  48.849530   2.290219                2     1         1   \n",
      "3     169.000000  48.866360   2.361844                4     2         1   \n",
      "4      75.876209  48.861398   2.364299                4     2         1   \n",
      "..           ...        ...        ...              ...   ...       ...   \n",
      "994   725.175781  48.879223   2.292382                5     0         1   \n",
      "995   475.000000  48.872202   2.298349                4     2         1   \n",
      "996   117.000000  48.880923   2.314568                2     1         0   \n",
      "997   156.397468  48.852915   2.314519                2     1         1   \n",
      "998    49.184211  48.870109   2.321475                6     4         2   \n",
      "\n",
      "     bathrooms  pricing_weekly_factor  pricing_monthly_factor  \n",
      "0          1.0                   0.88                     1.0  \n",
      "1          1.0                   0.87                     1.0  \n",
      "2          1.0                   0.90                     0.9  \n",
      "3          1.0                   1.00                     0.4  \n",
      "4          1.0                   1.00                     1.0  \n",
      "..         ...                    ...                     ...  \n",
      "994        1.0                   1.00                     1.0  \n",
      "995        1.0                   1.00                     1.0  \n",
      "996        1.0                   1.00                     1.0  \n",
      "997        1.0                   1.00                     1.0  \n",
      "998        1.5                   1.00                     1.0  \n",
      "\n",
      "[999 rows x 9 columns]\n",
      "Splitting start...\n",
      "      latitude  longitude  person_capacity  beds  bedrooms  bathrooms  \\\n",
      "0    48.867284   2.358431                4     2         1        1.0   \n",
      "1    48.846184   2.304455                2     1         1        1.0   \n",
      "2    48.849530   2.290219                2     1         1        1.0   \n",
      "3    48.866360   2.361844                4     2         1        1.0   \n",
      "4    48.861398   2.364299                4     2         1        1.0   \n",
      "..         ...        ...              ...   ...       ...        ...   \n",
      "994  48.879223   2.292382                5     0         1        1.0   \n",
      "995  48.872202   2.298349                4     2         1        1.0   \n",
      "996  48.880923   2.314568                2     1         0        1.0   \n",
      "997  48.852915   2.314519                2     1         1        1.0   \n",
      "998  48.870109   2.321475                6     4         2        1.5   \n",
      "\n",
      "     pricing_weekly_factor  pricing_monthly_factor  \n",
      "0                     0.88                     1.0  \n",
      "1                     0.87                     1.0  \n",
      "2                     0.90                     0.9  \n",
      "3                     1.00                     0.4  \n",
      "4                     1.00                     1.0  \n",
      "..                     ...                     ...  \n",
      "994                   1.00                     1.0  \n",
      "995                   1.00                     1.0  \n",
      "996                   1.00                     1.0  \n",
      "997                   1.00                     1.0  \n",
      "998                   1.00                     1.0  \n",
      "\n",
      "[999 rows x 8 columns]\n",
      "Splitting end\n",
      " \n",
      "Start constructing ModelBuilder instance...\n",
      "End constructing ModelBuilder instance...\n",
      "Coefficient accurancy : 45.314140893403184 %\n",
      "Path : . , Regression : LinearRegression()\n",
      "Dump done successfully\n"
     ]
    }
   ],
   "source": [
    "\n",
    "X_train, X_test, y_train, y_test = DataManager()\n",
    "mb = ModelBuilder(\".\")\n",
    "mb.train(X_train, y_train)\n",
    "mb.print_accuracy(X_test, y_test)\n",
    "print(mb)\n",
    "mb.save_model()"
   ]
  },
  {
   "source": [
    "- We can see that the accurancy is around 45 % which is not that good.<br/>\n",
    "\n",
    "- More than half of predictions will be incorrect.<br/>\n",
    "- That's why I think the model is underfitting.<br/>\n",
    "\n",
    "- One way to improve results would to used differents data to train"
   ],
   "cell_type": "markdown",
   "metadata": {}
  },
  {
   "cell_type": "code",
   "execution_count": 4,
   "metadata": {},
   "outputs": [],
   "source": [
    "reg = load(\"./model.joblib\")"
   ]
  },
  {
   "cell_type": "code",
   "execution_count": 8,
   "metadata": {},
   "outputs": [
    {
     "output_type": "stream",
     "name": "stdout",
     "text": [
      "      latitude  longitude  person_capacity  beds  bedrooms  bathrooms  \\\n728  48.866821   2.327321                4     2         1        1.0   \n\n     pricing_weekly_factor  pricing_monthly_factor  \n728                    1.0                     1.0  \n"
     ]
    },
    {
     "output_type": "execute_result",
     "data": {
      "text/plain": [
       "array([187.42729136])"
      ]
     },
     "metadata": {},
     "execution_count": 8
    }
   ],
   "source": [
    "print(X_train[:1])\n",
    "reg.predict(X_train[:1])"
   ]
  },
  {
   "cell_type": "code",
   "execution_count": null,
   "metadata": {},
   "outputs": [],
   "source": []
  }
 ]
}